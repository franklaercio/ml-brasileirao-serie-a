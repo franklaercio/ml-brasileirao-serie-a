{
 "cells": [
  {
   "metadata": {},
   "cell_type": "markdown",
   "source": [
    "# Collecting Data\n",
    "\n",
    "First, we need to determine the source for the 2024 Brasileirão Série A competition data. There are several options available, such as ESPN Data, Google, or Rapid API. For simplicity, we’ll use Rapid API as our data source for this model.\n",
    "\n",
    "Next, we need to import all the necessary dependencies to connect to the API and retrieve the data. After that, we'll use our token to authenticate and establish the connection with Rapid API."
   ],
   "id": "a5e75051cf0a12cd"
  },
  {
   "metadata": {},
   "cell_type": "code",
   "outputs": [],
   "execution_count": null,
   "source": "",
   "id": "68dc2a39b0d73f1a"
  }
 ],
 "metadata": {
  "kernelspec": {
   "display_name": "Python 3",
   "language": "python",
   "name": "python3"
  },
  "language_info": {
   "codemirror_mode": {
    "name": "ipython",
    "version": 2
   },
   "file_extension": ".py",
   "mimetype": "text/x-python",
   "name": "python",
   "nbconvert_exporter": "python",
   "pygments_lexer": "ipython2",
   "version": "2.7.6"
  }
 },
 "nbformat": 4,
 "nbformat_minor": 5
}
