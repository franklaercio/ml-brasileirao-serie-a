{
 "cells": [
  {
   "cell_type": "code",
   "execution_count": 1,
   "metadata": {},
   "outputs": [],
   "source": [
    "import warnings\n",
    "warnings.filterwarnings('ignore')"
   ]
  },
  {
   "cell_type": "code",
   "execution_count": 6,
   "metadata": {},
   "outputs": [],
   "source": [
    "import pandas as pd\n",
    "import numpy as np\n",
    "from sklearn.model_selection import train_test_split\n",
    "from sklearn.preprocessing import LabelEncoder\n",
    "from tensorflow import keras\n",
    "from tensorflow.keras.models import Sequential\n",
    "from tensorflow.keras.layers import Dense\n",
    "from tensorflow.keras.utils import to_categorical\n",
    "from tensorflow.keras.layers import Dropout"
   ]
  },
  {
   "cell_type": "code",
   "execution_count": 8,
   "metadata": {},
   "outputs": [],
   "source": [
    "# Carregando os dados\n",
    "partidas_realizadas = pd.read_csv('../data/raw/Partidas_Realizadas.csv')\n",
    "classificacao = pd.read_csv('../data/raw/Classificacao.csv')\n",
    "partidas_nao_realizadas = pd.read_csv('../data/raw/Partidas_Nao_Realizadas.csv')"
   ]
  },
  {
   "cell_type": "code",
   "execution_count": 9,
   "metadata": {},
   "outputs": [],
   "source": [
    "# Limpeza e pré-processamento\n",
    "partidas_realizadas['Data'] = pd.to_datetime(partidas_realizadas['Data'], errors='coerce')\n",
    "partidas_realizadas = partidas_realizadas[partidas_realizadas['Placar_Visitante'] != 'X']\n",
    "partidas_realizadas['Placar_Mandante'] = pd.to_numeric(partidas_realizadas['Placar_Mandante'], errors='coerce')\n",
    "partidas_realizadas['Placar_Visitante'] = pd.to_numeric(partidas_realizadas['Placar_Visitante'], errors='coerce')"
   ]
  },
  {
   "cell_type": "code",
   "execution_count": 10,
   "metadata": {},
   "outputs": [],
   "source": [
    "# Removendo colunas irrelevantes\n",
    "partidas_realizadas = partidas_realizadas.drop(columns=[\"Estadio\", \"Data\", \"Hora\"])"
   ]
  },
  {
   "cell_type": "code",
   "execution_count": 26,
   "metadata": {},
   "outputs": [
    {
     "data": {
      "text/plain": [
       "Rodada              0\n",
       "Mandante            0\n",
       "Placar_Mandante     0\n",
       "Placar_Visitante    0\n",
       "Visitante           0\n",
       "Dia                 9\n",
       "resultado           0\n",
       "goleada             0\n",
       "diferenca_placar    0\n",
       "Resultado           0\n",
       "dtype: int64"
      ]
     },
     "execution_count": 26,
     "metadata": {},
     "output_type": "execute_result"
    }
   ],
   "source": [
    "partidas_realizadas.isnull().sum()"
   ]
  },
  {
   "cell_type": "code",
   "execution_count": 11,
   "metadata": {},
   "outputs": [
    {
     "data": {
      "text/html": [
       "<div>\n",
       "<style scoped>\n",
       "    .dataframe tbody tr th:only-of-type {\n",
       "        vertical-align: middle;\n",
       "    }\n",
       "\n",
       "    .dataframe tbody tr th {\n",
       "        vertical-align: top;\n",
       "    }\n",
       "\n",
       "    .dataframe thead th {\n",
       "        text-align: right;\n",
       "    }\n",
       "</style>\n",
       "<table border=\"1\" class=\"dataframe\">\n",
       "  <thead>\n",
       "    <tr style=\"text-align: right;\">\n",
       "      <th></th>\n",
       "      <th>Rodada</th>\n",
       "      <th>Time</th>\n",
       "      <th>Posicao</th>\n",
       "      <th>Pontos</th>\n",
       "      <th>Jogos</th>\n",
       "      <th>Vitorias</th>\n",
       "      <th>Empates</th>\n",
       "      <th>Derrotas</th>\n",
       "      <th>GP</th>\n",
       "      <th>GC</th>\n",
       "      <th>SG</th>\n",
       "    </tr>\n",
       "  </thead>\n",
       "  <tbody>\n",
       "    <tr>\n",
       "      <th>0</th>\n",
       "      <td>29</td>\n",
       "      <td>Botafogo</td>\n",
       "      <td>1</td>\n",
       "      <td>60</td>\n",
       "      <td>29</td>\n",
       "      <td>18</td>\n",
       "      <td>6</td>\n",
       "      <td>5</td>\n",
       "      <td>47</td>\n",
       "      <td>25</td>\n",
       "      <td>22</td>\n",
       "    </tr>\n",
       "    <tr>\n",
       "      <th>1</th>\n",
       "      <td>29</td>\n",
       "      <td>Palmeiras</td>\n",
       "      <td>2</td>\n",
       "      <td>57</td>\n",
       "      <td>29</td>\n",
       "      <td>17</td>\n",
       "      <td>6</td>\n",
       "      <td>6</td>\n",
       "      <td>46</td>\n",
       "      <td>20</td>\n",
       "      <td>26</td>\n",
       "    </tr>\n",
       "    <tr>\n",
       "      <th>2</th>\n",
       "      <td>29</td>\n",
       "      <td>Fortaleza</td>\n",
       "      <td>3</td>\n",
       "      <td>55</td>\n",
       "      <td>29</td>\n",
       "      <td>16</td>\n",
       "      <td>7</td>\n",
       "      <td>6</td>\n",
       "      <td>38</td>\n",
       "      <td>29</td>\n",
       "      <td>9</td>\n",
       "    </tr>\n",
       "    <tr>\n",
       "      <th>3</th>\n",
       "      <td>29</td>\n",
       "      <td>Flamengo</td>\n",
       "      <td>4</td>\n",
       "      <td>51</td>\n",
       "      <td>28</td>\n",
       "      <td>15</td>\n",
       "      <td>6</td>\n",
       "      <td>7</td>\n",
       "      <td>45</td>\n",
       "      <td>32</td>\n",
       "      <td>13</td>\n",
       "    </tr>\n",
       "    <tr>\n",
       "      <th>4</th>\n",
       "      <td>29</td>\n",
       "      <td>São Paulo</td>\n",
       "      <td>5</td>\n",
       "      <td>47</td>\n",
       "      <td>29</td>\n",
       "      <td>14</td>\n",
       "      <td>5</td>\n",
       "      <td>10</td>\n",
       "      <td>38</td>\n",
       "      <td>32</td>\n",
       "      <td>6</td>\n",
       "    </tr>\n",
       "  </tbody>\n",
       "</table>\n",
       "</div>"
      ],
      "text/plain": [
       "   Rodada       Time  Posicao  Pontos  Jogos  Vitorias  Empates  Derrotas  GP  \\\n",
       "0      29   Botafogo        1      60     29        18        6         5  47   \n",
       "1      29  Palmeiras        2      57     29        17        6         6  46   \n",
       "2      29  Fortaleza        3      55     29        16        7         6  38   \n",
       "3      29   Flamengo        4      51     28        15        6         7  45   \n",
       "4      29  São Paulo        5      47     29        14        5        10  38   \n",
       "\n",
       "   GC  SG  \n",
       "0  25  22  \n",
       "1  20  26  \n",
       "2  29   9  \n",
       "3  32  13  \n",
       "4  32   6  "
      ]
     },
     "execution_count": 11,
     "metadata": {},
     "output_type": "execute_result"
    }
   ],
   "source": [
    "classificacao.head()"
   ]
  },
  {
   "cell_type": "code",
   "execution_count": 12,
   "metadata": {},
   "outputs": [
    {
     "data": {
      "text/html": [
       "<div>\n",
       "<style scoped>\n",
       "    .dataframe tbody tr th:only-of-type {\n",
       "        vertical-align: middle;\n",
       "    }\n",
       "\n",
       "    .dataframe tbody tr th {\n",
       "        vertical-align: top;\n",
       "    }\n",
       "\n",
       "    .dataframe thead th {\n",
       "        text-align: right;\n",
       "    }\n",
       "</style>\n",
       "<table border=\"1\" class=\"dataframe\">\n",
       "  <thead>\n",
       "    <tr style=\"text-align: right;\">\n",
       "      <th></th>\n",
       "      <th>Rodada</th>\n",
       "      <th>Mandante</th>\n",
       "      <th>Visitante</th>\n",
       "      <th>Data</th>\n",
       "    </tr>\n",
       "  </thead>\n",
       "  <tbody>\n",
       "    <tr>\n",
       "      <th>0</th>\n",
       "      <td>28</td>\n",
       "      <td>Internacional</td>\n",
       "      <td>Grêmio</td>\n",
       "      <td>20/10</td>\n",
       "    </tr>\n",
       "    <tr>\n",
       "      <th>1</th>\n",
       "      <td>28</td>\n",
       "      <td>Cruzeiro</td>\n",
       "      <td>Bahia</td>\n",
       "      <td>20/10</td>\n",
       "    </tr>\n",
       "    <tr>\n",
       "      <th>2</th>\n",
       "      <td>28</td>\n",
       "      <td>Vitória</td>\n",
       "      <td>Bragantino</td>\n",
       "      <td>20/10</td>\n",
       "    </tr>\n",
       "    <tr>\n",
       "      <th>3</th>\n",
       "      <td>28</td>\n",
       "      <td>Flamengo</td>\n",
       "      <td>Fluminense</td>\n",
       "      <td>20/10</td>\n",
       "    </tr>\n",
       "    <tr>\n",
       "      <th>4</th>\n",
       "      <td>28</td>\n",
       "      <td>Botafogo</td>\n",
       "      <td>Criciúma</td>\n",
       "      <td>20/10</td>\n",
       "    </tr>\n",
       "  </tbody>\n",
       "</table>\n",
       "</div>"
      ],
      "text/plain": [
       "   Rodada       Mandante   Visitante   Data\n",
       "0      28  Internacional      Grêmio  20/10\n",
       "1      28       Cruzeiro       Bahia  20/10\n",
       "2      28        Vitória  Bragantino  20/10\n",
       "3      28       Flamengo  Fluminense  20/10\n",
       "4      28       Botafogo    Criciúma  20/10"
      ]
     },
     "execution_count": 12,
     "metadata": {},
     "output_type": "execute_result"
    }
   ],
   "source": [
    "partidas_nao_realizadas.head()"
   ]
  },
  {
   "cell_type": "code",
   "execution_count": 13,
   "metadata": {},
   "outputs": [
    {
     "data": {
      "text/html": [
       "<div>\n",
       "<style scoped>\n",
       "    .dataframe tbody tr th:only-of-type {\n",
       "        vertical-align: middle;\n",
       "    }\n",
       "\n",
       "    .dataframe tbody tr th {\n",
       "        vertical-align: top;\n",
       "    }\n",
       "\n",
       "    .dataframe thead th {\n",
       "        text-align: right;\n",
       "    }\n",
       "</style>\n",
       "<table border=\"1\" class=\"dataframe\">\n",
       "  <thead>\n",
       "    <tr style=\"text-align: right;\">\n",
       "      <th></th>\n",
       "      <th>Rodada</th>\n",
       "      <th>Mandante</th>\n",
       "      <th>Placar_Mandante</th>\n",
       "      <th>Placar_Visitante</th>\n",
       "      <th>Visitante</th>\n",
       "      <th>Dia</th>\n",
       "      <th>resultado</th>\n",
       "      <th>goleada</th>\n",
       "      <th>diferenca_placar</th>\n",
       "    </tr>\n",
       "  </thead>\n",
       "  <tbody>\n",
       "    <tr>\n",
       "      <th>0</th>\n",
       "      <td>1</td>\n",
       "      <td>Vitória</td>\n",
       "      <td>0</td>\n",
       "      <td>1</td>\n",
       "      <td>Palmeiras</td>\n",
       "      <td>6.0</td>\n",
       "      <td>2</td>\n",
       "      <td>0</td>\n",
       "      <td>-1</td>\n",
       "    </tr>\n",
       "    <tr>\n",
       "      <th>1</th>\n",
       "      <td>1</td>\n",
       "      <td>Internacional</td>\n",
       "      <td>2</td>\n",
       "      <td>1</td>\n",
       "      <td>Bahia</td>\n",
       "      <td>5.0</td>\n",
       "      <td>0</td>\n",
       "      <td>0</td>\n",
       "      <td>1</td>\n",
       "    </tr>\n",
       "    <tr>\n",
       "      <th>2</th>\n",
       "      <td>1</td>\n",
       "      <td>Criciúma</td>\n",
       "      <td>1</td>\n",
       "      <td>1</td>\n",
       "      <td>Juventude</td>\n",
       "      <td>5.0</td>\n",
       "      <td>1</td>\n",
       "      <td>0</td>\n",
       "      <td>0</td>\n",
       "    </tr>\n",
       "    <tr>\n",
       "      <th>3</th>\n",
       "      <td>1</td>\n",
       "      <td>Fluminense</td>\n",
       "      <td>2</td>\n",
       "      <td>2</td>\n",
       "      <td>Bragantino</td>\n",
       "      <td>5.0</td>\n",
       "      <td>1</td>\n",
       "      <td>0</td>\n",
       "      <td>0</td>\n",
       "    </tr>\n",
       "    <tr>\n",
       "      <th>4</th>\n",
       "      <td>1</td>\n",
       "      <td>São Paulo</td>\n",
       "      <td>1</td>\n",
       "      <td>2</td>\n",
       "      <td>Fortaleza</td>\n",
       "      <td>5.0</td>\n",
       "      <td>2</td>\n",
       "      <td>0</td>\n",
       "      <td>-1</td>\n",
       "    </tr>\n",
       "  </tbody>\n",
       "</table>\n",
       "</div>"
      ],
      "text/plain": [
       "   Rodada       Mandante  Placar_Mandante  Placar_Visitante   Visitante  Dia  \\\n",
       "0       1        Vitória                0                 1   Palmeiras  6.0   \n",
       "1       1  Internacional                2                 1       Bahia  5.0   \n",
       "2       1       Criciúma                1                 1   Juventude  5.0   \n",
       "3       1     Fluminense                2                 2  Bragantino  5.0   \n",
       "4       1      São Paulo                1                 2   Fortaleza  5.0   \n",
       "\n",
       "   resultado  goleada  diferenca_placar  \n",
       "0          2        0                -1  \n",
       "1          0        0                 1  \n",
       "2          1        0                 0  \n",
       "3          1        0                 0  \n",
       "4          2        0                -1  "
      ]
     },
     "execution_count": 13,
     "metadata": {},
     "output_type": "execute_result"
    }
   ],
   "source": [
    "dias_da_semana_para_numero = { 'Segunda': 0, 'Terça': 1, 'Quarta': 2, 'Quinta': 3, 'Sexta': 4, 'Sábado': 5, 'Domingo': 6}\n",
    "partidas_realizadas['Dia'] = partidas_realizadas['Dia'].replace(dias_da_semana_para_numero)\n",
    "partidas_realizadas['Dia'] = pd.to_numeric(partidas_realizadas['Dia'], errors='coerce')\n",
    "\n",
    "partidas_realizadas['Placar_Mandante'] = pd.to_numeric(partidas_realizadas['Placar_Mandante'])\n",
    "partidas_realizadas['Placar_Visitante'] = pd.to_numeric(partidas_realizadas['Placar_Visitante'])\n",
    "\n",
    "def determinar_resultado(row):\n",
    "    if row['Placar_Mandante'] > row['Placar_Visitante']:\n",
    "        return 0  # Ganhou\n",
    "    elif row['Placar_Mandante'] < row['Placar_Visitante']:\n",
    "        return 2  # Perdeu\n",
    "    else:\n",
    "        return 1  # Empatou\n",
    "\n",
    "def foi_goleada(row):\n",
    "    if abs(row['Placar_Mandante'] - row['Placar_Visitante']) >= 3:\n",
    "        return 1  # Foi goleada\n",
    "    else:\n",
    "        return 0  # Não foi goleada\n",
    "\n",
    "partidas_realizadas['resultado'] = partidas_realizadas.apply(determinar_resultado, axis=1)\n",
    "partidas_realizadas['goleada'] = partidas_realizadas.apply(foi_goleada, axis=1)\n",
    "partidas_realizadas['diferenca_placar'] = partidas_realizadas['Placar_Mandante'] - partidas_realizadas['Placar_Visitante']\n",
    "\n",
    "partidas_realizadas.head()"
   ]
  },
  {
   "cell_type": "code",
   "execution_count": 14,
   "metadata": {},
   "outputs": [],
   "source": [
    "classificacao['Pontos'] = classificacao['Pontos'].astype(int)\n",
    "classificacao['Vitorias'] = classificacao['Vitorias'].astype(int)\n",
    "classificacao['Empates'] = classificacao['Empates'].astype(int)\n",
    "classificacao['Derrotas'] = classificacao['Derrotas'].astype(int)\n",
    "classificacao['GP'] = classificacao['GP'].astype(int)\n",
    "classificacao['GC'] = classificacao['GC'].astype(int)\n",
    "classificacao['SG'] = classificacao['GP'] - classificacao['GC']  # Saldo de Gols\n",
    "classificacao['Jogos'] = classificacao['Jogos'].astype(int)"
   ]
  },
  {
   "cell_type": "code",
   "execution_count": 15,
   "metadata": {},
   "outputs": [
    {
     "name": "stdout",
     "output_type": "stream",
     "text": [
      "Index(['Rodada', 'Mandante', 'Placar_Mandante', 'Placar_Visitante',\n",
      "       'Visitante', 'Dia', 'resultado', 'goleada', 'diferenca_placar'],\n",
      "      dtype='object')\n"
     ]
    }
   ],
   "source": [
    "print(partidas_realizadas.columns)"
   ]
  },
  {
   "cell_type": "code",
   "execution_count": 16,
   "metadata": {},
   "outputs": [],
   "source": [
    "partidas_realizadas['Placar_Mandante'] = pd.to_numeric(partidas_realizadas['Placar_Mandante'], errors='coerce')\n",
    "partidas_realizadas['Placar_Visitante'] = pd.to_numeric(partidas_realizadas['Placar_Visitante'], errors='coerce')\n",
    "partidas_realizadas = partidas_realizadas.dropna(subset=['Placar_Mandante', 'Placar_Visitante'])"
   ]
  },
  {
   "cell_type": "code",
   "execution_count": 17,
   "metadata": {},
   "outputs": [],
   "source": [
    "partidas_realizadas['Resultado'] = np.where(partidas_realizadas['Placar_Mandante'] > partidas_realizadas['Placar_Visitante'], 'Mandante',\n",
    "                                           np.where(partidas_realizadas['Placar_Mandante'] < partidas_realizadas['Placar_Visitante'], 'Visitante', 'Empate'))"
   ]
  },
  {
   "cell_type": "code",
   "execution_count": 18,
   "metadata": {},
   "outputs": [],
   "source": [
    "X = partidas_realizadas[['Mandante', 'Visitante', 'Rodada']]\n",
    "y = partidas_realizadas['Resultado']"
   ]
  },
  {
   "cell_type": "code",
   "execution_count": 19,
   "metadata": {},
   "outputs": [],
   "source": [
    "X = pd.get_dummies(X, columns=['Mandante', 'Visitante'], drop_first=True)"
   ]
  },
  {
   "cell_type": "code",
   "execution_count": 20,
   "metadata": {},
   "outputs": [],
   "source": [
    "label_encoder = LabelEncoder()\n",
    "y_encoded = label_encoder.fit_transform(y)\n",
    "y_categorical = to_categorical(y_encoded)"
   ]
  },
  {
   "cell_type": "code",
   "execution_count": 21,
   "metadata": {},
   "outputs": [],
   "source": [
    "X = X.astype(np.float32)\n",
    "y_categorical = y_categorical.astype(np.float32)"
   ]
  },
  {
   "cell_type": "code",
   "execution_count": 22,
   "metadata": {},
   "outputs": [],
   "source": [
    "X_train, X_test, y_train, y_test = train_test_split(X, y_categorical, test_size=0.3, random_state=42)"
   ]
  },
  {
   "cell_type": "code",
   "execution_count": 23,
   "metadata": {},
   "outputs": [],
   "source": [
    "model = Sequential()\n",
    "model.add(Dense(128, activation='relu', input_shape=(X_train.shape[1],)))\n",
    "model.add(Dropout(0.3))\n",
    "model.add(Dense(64, activation='relu'))\n",
    "model.add(Dropout(0.3))\n",
    "model.add(Dense(32, activation='relu'))\n",
    "model.add(Dropout(0.3))\n",
    "model.add(Dense(3, activation='softmax'))  # 3 classes: 'Mandante', 'Visitante', 'Empate'"
   ]
  },
  {
   "cell_type": "code",
   "execution_count": 33,
   "metadata": {},
   "outputs": [],
   "source": [
    "model.compile(optimizer='adam', loss='categorical_crossentropy', metrics=['accuracy'])"
   ]
  },
  {
   "cell_type": "code",
   "execution_count": 28,
   "metadata": {},
   "outputs": [],
   "source": [
    "X_train = np.array(X_train)\n",
    "y_train = np.array(y_train)"
   ]
  },
  {
   "cell_type": "code",
   "execution_count": 34,
   "metadata": {},
   "outputs": [
    {
     "ename": "ValueError",
     "evalue": "object __array__ method not producing an array",
     "output_type": "error",
     "traceback": [
      "\u001b[1;31m---------------------------------------------------------------------------\u001b[0m",
      "\u001b[1;31mValueError\u001b[0m                                Traceback (most recent call last)",
      "Cell \u001b[1;32mIn[34], line 1\u001b[0m\n\u001b[1;32m----> 1\u001b[0m \u001b[43mmodel\u001b[49m\u001b[38;5;241;43m.\u001b[39;49m\u001b[43mfit\u001b[49m\u001b[43m(\u001b[49m\u001b[43mX_train\u001b[49m\u001b[43m,\u001b[49m\u001b[43m \u001b[49m\u001b[43my_train\u001b[49m\u001b[43m,\u001b[49m\u001b[43m \u001b[49m\u001b[43mepochs\u001b[49m\u001b[38;5;241;43m=\u001b[39;49m\u001b[38;5;241;43m150\u001b[39;49m\u001b[43m,\u001b[49m\u001b[43m \u001b[49m\u001b[43mbatch_size\u001b[49m\u001b[38;5;241;43m=\u001b[39;49m\u001b[38;5;241;43m10\u001b[39;49m\u001b[43m,\u001b[49m\u001b[43m \u001b[49m\u001b[43mvalidation_data\u001b[49m\u001b[38;5;241;43m=\u001b[39;49m\u001b[43m(\u001b[49m\u001b[43mX_test\u001b[49m\u001b[43m,\u001b[49m\u001b[43m \u001b[49m\u001b[43my_test\u001b[49m\u001b[43m)\u001b[49m\u001b[43m)\u001b[49m\n",
      "File \u001b[1;32mc:\\Users\\Rickson\\AppData\\Local\\Programs\\Python\\Python311\\Lib\\site-packages\\keras\\src\\utils\\traceback_utils.py:122\u001b[0m, in \u001b[0;36mfilter_traceback.<locals>.error_handler\u001b[1;34m(*args, **kwargs)\u001b[0m\n\u001b[0;32m    119\u001b[0m     filtered_tb \u001b[38;5;241m=\u001b[39m _process_traceback_frames(e\u001b[38;5;241m.\u001b[39m__traceback__)\n\u001b[0;32m    120\u001b[0m     \u001b[38;5;66;03m# To get the full stack trace, call:\u001b[39;00m\n\u001b[0;32m    121\u001b[0m     \u001b[38;5;66;03m# `keras.config.disable_traceback_filtering()`\u001b[39;00m\n\u001b[1;32m--> 122\u001b[0m     \u001b[38;5;28;01mraise\u001b[39;00m e\u001b[38;5;241m.\u001b[39mwith_traceback(filtered_tb) \u001b[38;5;28;01mfrom\u001b[39;00m \u001b[38;5;28;01mNone\u001b[39;00m\n\u001b[0;32m    123\u001b[0m \u001b[38;5;28;01mfinally\u001b[39;00m:\n\u001b[0;32m    124\u001b[0m     \u001b[38;5;28;01mdel\u001b[39;00m filtered_tb\n",
      "File \u001b[1;32mc:\\Users\\Rickson\\AppData\\Local\\Programs\\Python\\Python311\\Lib\\site-packages\\tensorflow\\python\\framework\\constant_op.py:108\u001b[0m, in \u001b[0;36mconvert_to_eager_tensor\u001b[1;34m(value, ctx, dtype)\u001b[0m\n\u001b[0;32m    106\u001b[0m     dtype \u001b[38;5;241m=\u001b[39m dtypes\u001b[38;5;241m.\u001b[39mas_dtype(dtype)\u001b[38;5;241m.\u001b[39mas_datatype_enum\n\u001b[0;32m    107\u001b[0m ctx\u001b[38;5;241m.\u001b[39mensure_initialized()\n\u001b[1;32m--> 108\u001b[0m \u001b[38;5;28;01mreturn\u001b[39;00m \u001b[43mops\u001b[49m\u001b[38;5;241;43m.\u001b[39;49m\u001b[43mEagerTensor\u001b[49m\u001b[43m(\u001b[49m\u001b[43mvalue\u001b[49m\u001b[43m,\u001b[49m\u001b[43m \u001b[49m\u001b[43mctx\u001b[49m\u001b[38;5;241;43m.\u001b[39;49m\u001b[43mdevice_name\u001b[49m\u001b[43m,\u001b[49m\u001b[43m \u001b[49m\u001b[43mdtype\u001b[49m\u001b[43m)\u001b[49m\n",
      "\u001b[1;31mValueError\u001b[0m: object __array__ method not producing an array"
     ]
    }
   ],
   "source": [
    "model.fit(X_train, y_train, epochs=150, batch_size=10, validation_data=(X_test, y_test))"
   ]
  },
  {
   "cell_type": "code",
   "execution_count": 30,
   "metadata": {},
   "outputs": [],
   "source": [
    "X_nao_realizadas = partidas_nao_realizadas[['Mandante', 'Visitante', 'Rodada']]\n",
    "X_nao_realizadas = pd.get_dummies(X_nao_realizadas, columns=['Mandante', 'Visitante'], drop_first=True)\n",
    "X_nao_realizadas = X_nao_realizadas.reindex(columns=X.columns, fill_value=0).astype(np.float32)"
   ]
  },
  {
   "cell_type": "code",
   "execution_count": 31,
   "metadata": {},
   "outputs": [
    {
     "ename": "ValueError",
     "evalue": "object __array__ method not producing an array",
     "output_type": "error",
     "traceback": [
      "\u001b[1;31m---------------------------------------------------------------------------\u001b[0m",
      "\u001b[1;31mValueError\u001b[0m                                Traceback (most recent call last)",
      "Cell \u001b[1;32mIn[31], line 3\u001b[0m\n\u001b[0;32m      1\u001b[0m classificacao \u001b[38;5;241m=\u001b[39m classificacao\u001b[38;5;241m.\u001b[39mdrop_duplicates(subset\u001b[38;5;241m=\u001b[39m\u001b[38;5;124m'\u001b[39m\u001b[38;5;124mTime\u001b[39m\u001b[38;5;124m'\u001b[39m)\u001b[38;5;241m.\u001b[39mreset_index(drop\u001b[38;5;241m=\u001b[39m\u001b[38;5;28;01mTrue\u001b[39;00m)\n\u001b[1;32m----> 3\u001b[0m predicted_results \u001b[38;5;241m=\u001b[39m \u001b[43mmodel\u001b[49m\u001b[38;5;241;43m.\u001b[39;49m\u001b[43mpredict\u001b[49m\u001b[43m(\u001b[49m\u001b[43mX_nao_realizadas\u001b[49m\u001b[43m)\u001b[49m\n\u001b[0;32m      4\u001b[0m predicted_classes \u001b[38;5;241m=\u001b[39m np\u001b[38;5;241m.\u001b[39margmax(predicted_results, axis\u001b[38;5;241m=\u001b[39m\u001b[38;5;241m1\u001b[39m)\n\u001b[0;32m      5\u001b[0m partidas_nao_realizadas[\u001b[38;5;124m'\u001b[39m\u001b[38;5;124mResultado\u001b[39m\u001b[38;5;124m'\u001b[39m] \u001b[38;5;241m=\u001b[39m label_encoder\u001b[38;5;241m.\u001b[39minverse_transform(predicted_classes)\n",
      "File \u001b[1;32mc:\\Users\\Rickson\\AppData\\Local\\Programs\\Python\\Python311\\Lib\\site-packages\\keras\\src\\utils\\traceback_utils.py:122\u001b[0m, in \u001b[0;36mfilter_traceback.<locals>.error_handler\u001b[1;34m(*args, **kwargs)\u001b[0m\n\u001b[0;32m    119\u001b[0m     filtered_tb \u001b[38;5;241m=\u001b[39m _process_traceback_frames(e\u001b[38;5;241m.\u001b[39m__traceback__)\n\u001b[0;32m    120\u001b[0m     \u001b[38;5;66;03m# To get the full stack trace, call:\u001b[39;00m\n\u001b[0;32m    121\u001b[0m     \u001b[38;5;66;03m# `keras.config.disable_traceback_filtering()`\u001b[39;00m\n\u001b[1;32m--> 122\u001b[0m     \u001b[38;5;28;01mraise\u001b[39;00m e\u001b[38;5;241m.\u001b[39mwith_traceback(filtered_tb) \u001b[38;5;28;01mfrom\u001b[39;00m \u001b[38;5;28;01mNone\u001b[39;00m\n\u001b[0;32m    123\u001b[0m \u001b[38;5;28;01mfinally\u001b[39;00m:\n\u001b[0;32m    124\u001b[0m     \u001b[38;5;28;01mdel\u001b[39;00m filtered_tb\n",
      "File \u001b[1;32mc:\\Users\\Rickson\\AppData\\Local\\Programs\\Python\\Python311\\Lib\\site-packages\\tensorflow\\python\\framework\\constant_op.py:108\u001b[0m, in \u001b[0;36mconvert_to_eager_tensor\u001b[1;34m(value, ctx, dtype)\u001b[0m\n\u001b[0;32m    106\u001b[0m     dtype \u001b[38;5;241m=\u001b[39m dtypes\u001b[38;5;241m.\u001b[39mas_dtype(dtype)\u001b[38;5;241m.\u001b[39mas_datatype_enum\n\u001b[0;32m    107\u001b[0m ctx\u001b[38;5;241m.\u001b[39mensure_initialized()\n\u001b[1;32m--> 108\u001b[0m \u001b[38;5;28;01mreturn\u001b[39;00m \u001b[43mops\u001b[49m\u001b[38;5;241;43m.\u001b[39;49m\u001b[43mEagerTensor\u001b[49m\u001b[43m(\u001b[49m\u001b[43mvalue\u001b[49m\u001b[43m,\u001b[49m\u001b[43m \u001b[49m\u001b[43mctx\u001b[49m\u001b[38;5;241;43m.\u001b[39;49m\u001b[43mdevice_name\u001b[49m\u001b[43m,\u001b[49m\u001b[43m \u001b[49m\u001b[43mdtype\u001b[49m\u001b[43m)\u001b[49m\n",
      "\u001b[1;31mValueError\u001b[0m: object __array__ method not producing an array"
     ]
    }
   ],
   "source": [
    "classificacao = classificacao.drop_duplicates(subset='Time').reset_index(drop=True)\n",
    "\n",
    "predicted_results = model.predict(X_nao_realizadas)\n",
    "predicted_classes = np.argmax(predicted_results, axis=1)\n",
    "partidas_nao_realizadas['Resultado'] = label_encoder.inverse_transform(predicted_classes)"
   ]
  },
  {
   "cell_type": "code",
   "execution_count": 35,
   "metadata": {},
   "outputs": [
    {
     "name": "stdout",
     "output_type": "stream",
     "text": [
      "    Rodada       Mandante      Visitante   Data\n",
      "0       28  Internacional         Grêmio  20/10\n",
      "1       28       Cruzeiro          Bahia  20/10\n",
      "2       28        Vitória     Bragantino  20/10\n",
      "3       28       Flamengo     Fluminense  20/10\n",
      "4       28       Botafogo       Criciúma  20/10\n",
      "..     ...            ...            ...    ...\n",
      "85      36      Palmeiras     Fluminense  08/12\n",
      "86      36     Bragantino       Criciúma  08/12\n",
      "87      36      Fortaleza  Internacional  08/12\n",
      "88      36         Cuiabá          Vasco  08/12\n",
      "89      36      Juventude       Cruzeiro  08/12\n",
      "\n",
      "[90 rows x 4 columns]\n"
     ]
    }
   ],
   "source": [
    "print(partidas_nao_realizadas)"
   ]
  },
  {
   "cell_type": "code",
   "execution_count": null,
   "metadata": {},
   "outputs": [],
   "source": [
    "for index, row in partidas_nao_realizadas.iterrows():\n",
    "    mandante = row['Mandante']\n",
    "    visitante = row['Visitante']\n",
    "    resultado = row['Resultado']\n",
    "\n",
    "    mandante_row = classificacao.loc[classificacao['Time'] == mandante].index[0]\n",
    "    visitante_row = classificacao.loc[classificacao['Time'] == visitante].index[0]\n",
    "\n",
    "    if resultado == 'Mandante':\n",
    "        classificacao.loc[mandante_row, 'Pontos'] += 3\n",
    "        classificacao.loc[mandante_row, 'Vitorias'] += 1\n",
    "        classificacao.loc[visitante_row, 'Derrotas'] += 1\n",
    "    elif resultado == 'Visitante':\n",
    "        classificacao.loc[visitante_row, 'Pontos'] += 3\n",
    "        classificacao.loc[visitante_row, 'Vitorias'] += 1\n",
    "        classificacao.loc[mandante_row, 'Derrotas'] += 1\n",
    "    else:\n",
    "        classificacao.loc[mandante_row, 'Pontos'] += 1\n",
    "        classificacao.loc[visitante_row, 'Pontos'] += 1\n",
    "        classificacao.loc[mandante_row, 'Empates'] += 1\n",
    "        classificacao.loc[visitante_row, 'Empates'] += 1\n",
    "    classificacao.loc[mandante_row, 'Jogos'] += 1\n",
    "    classificacao.loc[visitante_row, 'Jogos'] += 1"
   ]
  },
  {
   "cell_type": "code",
   "execution_count": null,
   "metadata": {},
   "outputs": [],
   "source": [
    "classificacao = classificacao.sort_values(by=['Pontos', 'Vitorias', 'SG'], ascending=False).reset_index(drop=True)\n",
    "classificacao['Posicao'] = classificacao.index + 1\n",
    "\n",
    "print(classificacao[['Time', 'Posicao', 'Pontos', 'Jogos', 'Vitorias', 'Empates', 'Derrotas']])"
   ]
  }
 ],
 "metadata": {
  "kernelspec": {
   "display_name": "Python 3",
   "language": "python",
   "name": "python3"
  },
  "language_info": {
   "codemirror_mode": {
    "name": "ipython",
    "version": 3
   },
   "file_extension": ".py",
   "mimetype": "text/x-python",
   "name": "python",
   "nbconvert_exporter": "python",
   "pygments_lexer": "ipython3",
   "version": "3.11.0"
  }
 },
 "nbformat": 4,
 "nbformat_minor": 2
}
